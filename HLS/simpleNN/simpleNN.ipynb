{
 "cells": [
  {
   "cell_type": "code",
   "execution_count": 93,
   "metadata": {},
   "outputs": [],
   "source": [
    "from pynq import Overlay\n",
    "ol = Overlay(\"nn_reset.bit\")"
   ]
  },
  {
   "cell_type": "code",
   "execution_count": 94,
   "metadata": {},
   "outputs": [
    {
     "data": {
      "text/plain": [
       "RegisterMap {\n",
       "  CTRL = Register(AP_START=0, AP_DONE=0, AP_IDLE=1, AP_READY=0, RESERVED_1=0, AUTO_RESTART=0, RESERVED_2=0, INTERRUPT=0, RESERVED_3=0),\n",
       "  GIER = Register(Enable=0, RESERVED=0),\n",
       "  IP_IER = Register(CHAN0_INT_EN=0, CHAN1_INT_EN=0, RESERVED_0=0),\n",
       "  IP_ISR = Register(CHAN0_INT_ST=0, CHAN1_INT_ST=0, RESERVED_0=0),\n",
       "  img_1 = Register(img=0),\n",
       "  img_2 = Register(img=0),\n",
       "  lrsw0_1 = Register(lrsw0=0),\n",
       "  lrsw0_2 = Register(lrsw0=0),\n",
       "  lrsb0_1 = Register(lrsb0=0),\n",
       "  lrsb0_2 = Register(lrsb0=0),\n",
       "  lrsw2_1 = Register(lrsw2=0),\n",
       "  lrsw2_2 = Register(lrsw2=0),\n",
       "  lrsb2_1 = Register(lrsb2=0),\n",
       "  lrsb2_2 = Register(lrsb2=0),\n",
       "  lrsw4_1 = Register(lrsw4=0),\n",
       "  lrsw4_2 = Register(lrsw4=0),\n",
       "  lrsb4_1 = Register(lrsb4=0),\n",
       "  lrsb4_2 = Register(lrsb4=0),\n",
       "  outcome_1 = Register(outcome=0),\n",
       "  outcome_2 = Register(outcome=0),\n",
       "  lrsb0_out_1 = Register(lrsb0_out=0),\n",
       "  lrsb0_out_2 = Register(lrsb0_out=0),\n",
       "  lrsb2_out_1 = Register(lrsb2_out=0),\n",
       "  lrsb2_out_2 = Register(lrsb2_out=0),\n",
       "  lrsw0_len = Register(lrsw0_len=0),\n",
       "  lrsb0_len = Register(lrsb0_len=0),\n",
       "  lrsw2_len = Register(lrsw2_len=0),\n",
       "  lrsb2_len = Register(lrsb2_len=0),\n",
       "  lrsw4_len = Register(lrsw4_len=0),\n",
       "  lrsb4_len = Register(lrsb4_len=0),\n",
       "  outcome_len = Register(outcome_len=0),\n",
       "  img_len = Register(img_len=0)\n",
       "}"
      ]
     },
     "execution_count": 94,
     "metadata": {},
     "output_type": "execute_result"
    }
   ],
   "source": [
    "ol.example_0.register_map\n"
   ]
  },
  {
   "cell_type": "code",
   "execution_count": 95,
   "metadata": {},
   "outputs": [],
   "source": [
    "from pynq import allocate\n",
    "import numpy as np "
   ]
  },
  {
   "cell_type": "code",
   "execution_count": 96,
   "metadata": {},
   "outputs": [],
   "source": [
    "my_ip=ol.example_0\n",
    "r_map=my_ip.register_map"
   ]
  },
  {
   "cell_type": "code",
   "execution_count": 97,
   "metadata": {},
   "outputs": [],
   "source": [
    "lrsw0_size =50176\n",
    "lrsb0_size =64\n",
    "lrsw2_size= 2048\n",
    "lrsb2_size= 32\n",
    "lrsw4_size =320\n",
    "lrsb4_size= 10"
   ]
  },
  {
   "cell_type": "code",
   "execution_count": 98,
   "metadata": {},
   "outputs": [],
   "source": [
    "r_map.img_len=784\n",
    "\n",
    "r_map.lrsw0_len=lrsw0_size\n",
    "r_map.lrsb0_len=lrsb0_size\n",
    "\n",
    "r_map.lrsw2_len=lrsw2_size\n",
    "r_map.lrsb2_len=lrsb2_size\n",
    "\n",
    "r_map.lrsw4_len=lrsw4_size\n",
    "r_map.lrsb4_len=lrsb4_size\n",
    "\n",
    "r_map.outcome_len=10"
   ]
  },
  {
   "cell_type": "code",
   "execution_count": 99,
   "metadata": {},
   "outputs": [],
   "source": [
    "lrsw0_buffer=allocate(shape=(lrsw0_size,), dtype=np.float32)\n",
    "lrsb0_buffer=allocate(shape=(lrsb0_size,), dtype=np.float32)\n",
    "lrsw2_buffer=allocate(shape=(lrsw2_size,), dtype=np.float32)\n",
    "lrsb2_buffer=allocate(shape=(lrsb2_size,), dtype=np.float32)\n",
    "lrsw4_buffer=allocate(shape=(lrsw4_size,), dtype=np.float32)\n",
    "lrsb4_buffer=allocate(shape=(lrsb4_size,), dtype=np.float32)\n",
    "img_buffer=allocate(shape=(784,), dtype=np.float32)\n",
    "\n",
    "outcome_buffer=allocate(shape=(10,), dtype=np.float32)\n",
    "\n",
    "lrsb0_out_buffer=allocate(shape=(10,), dtype=np.float32)\n",
    "lrsb2_out_buffer=allocate(shape=(10,), dtype=np.float32)"
   ]
  },
  {
   "cell_type": "code",
   "execution_count": 100,
   "metadata": {},
   "outputs": [],
   "source": [
    "lrsw0_buffer[:]=np.load(\"lrsw0.npy\")\n",
    "lrsb0_buffer[:]=np.load(\"lrsb0.npy\")\n",
    "\n",
    "lrsw2_buffer[:]=np.load(\"lrsw2.npy\")\n",
    "lrsb2_buffer[:]=np.load(\"lrsb2.npy\")\n",
    "\n",
    "lrsw4_buffer[:]=np.load(\"lrsw4.npy\")\n",
    "lrsb4_buffer[:]=np.load(\"lrsb4.npy\")\n",
    "\n",
    "img_lib=np.load(\"img.npy\")\n",
    "lable_lib=np.load(\"label.npy\")"
   ]
  },
  {
   "cell_type": "code",
   "execution_count": 101,
   "metadata": {},
   "outputs": [],
   "source": [
    "r_map.img_1=img_buffer.physical_address\n",
    "\n",
    "r_map.lrsw0_1=lrsw0_buffer.physical_address\n",
    "r_map.lrsb0_1=lrsb0_buffer.physical_address\n",
    "\n",
    "r_map.lrsw2_1=lrsw2_buffer.physical_address\n",
    "r_map.lrsb2_1=lrsb2_buffer.physical_address\n",
    "\n",
    "r_map.lrsw4_1=lrsw4_buffer.physical_address\n",
    "r_map.lrsb4_1=lrsb4_buffer.physical_address\n",
    "\n",
    "r_map.outcome_1=outcome_buffer.physical_address\n",
    "r_map.lrsb0_out_1=lrsb0_out_buffer.physical_address\n",
    "r_map.lrsb2_out_1=lrsb2_out_buffer.physical_address"
   ]
  },
  {
   "cell_type": "code",
   "execution_count": 113,
   "metadata": {},
   "outputs": [],
   "source": [
    "import time"
   ]
  },
  {
   "cell_type": "code",
   "execution_count": 126,
   "metadata": {
    "scrolled": false
   },
   "outputs": [
    {
     "name": "stdout",
     "output_type": "stream",
     "text": [
      "12.220770597457886\n",
      "0.968\n"
     ]
    }
   ],
   "source": [
    "start_time=time.time()\n",
    "hit=0\n",
    "for i in range(1000):\n",
    "    img_buffer[:]=img_lib[i]\n",
    "    ans=lable_lib[i]\n",
    "    my_ip.register_map.CTRL.AP_START=1\n",
    "    while(ol.example_0.register_map.CTRL.AP_DONE==0):\n",
    "        pass\n",
    "    if(ans==outcome_buffer.argmax()):\n",
    "        hit=hit+1\n",
    "    #print(\"i:\",i+1,\"acc\",hit/1000)\n",
    "end_time=time.time()\n",
    "print(end_time-start_time)\n",
    "print(hit/1000)"
   ]
  },
  {
   "cell_type": "markdown",
   "metadata": {},
   "source": [
    "1000img 12.136330366134644s to finish"
   ]
  },
  {
   "cell_type": "code",
   "execution_count": 82,
   "metadata": {},
   "outputs": [],
   "source": [
    "import matplotlib.pyplot as plt\n",
    "\n"
   ]
  },
  {
   "cell_type": "code",
   "execution_count": 13,
   "metadata": {},
   "outputs": [
    {
     "name": "stdout",
     "output_type": "stream",
     "text": [
      "2.0\n"
     ]
    },
    {
     "data": {
      "image/png": "[encoded data removed]",
      "text/plain": [
       "<matplotlib.figure.Figure at 0xac777a70>"
      ]
     },
     "metadata": {},
     "output_type": "display_data"
    }
   ],
   "source": [
    "plt.imshow(img_lib[1].reshape((28,28)))\n",
    "print(lable_lib[1])"
   ]
  },
  {
   "cell_type": "code",
   "execution_count": 110,
   "metadata": {},
   "outputs": [],
   "source": [
    "lrsw0=np.load(\"lrsw0.npy\")\n",
    "lrsb0=np.load(\"lrsb0.npy\")\n",
    "\n",
    "lrsw2=np.load(\"lrsw2.npy\")\n",
    "lrsb2=np.load(\"lrsb2.npy\")\n",
    "\n",
    "lrsw4=np.load(\"lrsw4.npy\")\n",
    "lrsb4=np.load(\"lrsb4.npy\")"
   ]
  },
  {
   "cell_type": "code",
   "execution_count": 125,
   "metadata": {},
   "outputs": [
    {
     "name": "stdout",
     "output_type": "stream",
     "text": [
      "now: 1 hit: 1\n",
      "now: 2 hit: 2\n",
      "now: 3 hit: 3\n",
      "now: 4 hit: 4\n",
      "now: 5 hit: 5\n",
      "now: 6 hit: 6\n",
      "now: 7 hit: 7\n",
      "now: 8 hit: 8\n",
      "now: 9 hit: 9\n",
      "now: 10 hit: 10\n",
      "10\n",
      "39.0618462562561\n"
     ]
    }
   ],
   "source": [
    "start_time=time.time()\n",
    "hit=0\n",
    "for r in range(10):\n",
    "    img=img_lib[r]\n",
    "    label=lable_lib[r]\n",
    "    img=img.reshape(-1)\n",
    "    out1=np.zeros(lrsb0_size)\n",
    "    out2=np.zeros(lrsb2_size)\n",
    "    out3=np.zeros(lrsb4_size)\n",
    "    \n",
    "    for i in range(lrsb0_size):\n",
    "        for j in range(784):\n",
    "            out1[i]+=lrsw0[i*784+j]*img[j]\n",
    "        out1[i]+=lrsb0[i]\n",
    "    for i in range(lrsb0_size):\n",
    "        if(out1[i]<0):\n",
    "            out1[i]=0\n",
    "\n",
    "    for i in range(lrsb2_size):\n",
    "        for j in range(lrsb0_size):\n",
    "            out2[i]+=lrsw2[i*lrsb0_size+j]*out1[j]\n",
    "        out2[i]+=lrsb2[i]\n",
    "    for i in range(lrsb2_size):\n",
    "        if(out2[i]<0):\n",
    "            out2[i]=0\n",
    "\n",
    "    for i in range(lrsb4_size):\n",
    "        for j in range(lrsb2_size):\n",
    "            out3[i]+=lrsw4[i*lrsb2_size+j]*out2[j]\n",
    "        out3[i]+=lrsb4[i]\n",
    "    if(out3.argmax()==label):\n",
    "        hit+=1\n",
    "\n",
    "    print(\"now:\",r+1,\"hit:\",hit)\n",
    "print(hit)\n",
    "print(time.time()-start_time)"
   ]
  },
  {
   "cell_type": "code",
   "execution_count": null,
   "metadata": {},
   "outputs": [],
   "source": []
  }
 ],
 "metadata": {
  "kernelspec": {
   "display_name": "Python 3.8.8 ('base')",
   "language": "python",
   "name": "python3"
  },
  "language_info": {
   "codemirror_mode": {
    "name": "ipython",
    "version": 3
   },
   "file_extension": ".py",
   "mimetype": "text/x-python",
   "name": "python",
   "nbconvert_exporter": "python",
   "pygments_lexer": "ipython3",
   "version": "3.8.8"
  },
  "vscode": {
   "interpreter": {
    "hash": "7ba7a796101d0304805c00b5533f699bed3d3e5c8dc49e94548394e332d36bb4"
   }
  }
 },
 "nbformat": 4,
 "nbformat_minor": 2
}
