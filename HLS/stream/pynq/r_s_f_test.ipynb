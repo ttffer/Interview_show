{
 "cells": [
  {
   "cell_type": "code",
   "execution_count": 28,
   "metadata": {},
   "outputs": [],
   "source": [
    "from pynq import Overlay\n",
    "from pynq import allocate\n",
    "import numpy as np"
   ]
  },
  {
   "cell_type": "code",
   "execution_count": 30,
   "metadata": {},
   "outputs": [],
   "source": [
    "ol = Overlay(\"s_r_int.bit\")"
   ]
  },
  {
   "cell_type": "code",
   "execution_count": 33,
   "metadata": {},
   "outputs": [],
   "source": [
    "ol?"
   ]
  },
  {
   "cell_type": "code",
   "execution_count": 34,
   "metadata": {},
   "outputs": [],
   "source": [
    "inBuffer0 = allocate(shape=(784,), dtype=np.int32)\n",
    "outBuffer= allocate(shape=(10,), dtype=np.int32)\n",
    "dma=ol.axi_dma_0\n"
   ]
  },
  {
   "cell_type": "code",
   "execution_count": 125,
   "metadata": {},
   "outputs": [],
   "source": [
    "inBuffer0[:]=np.ones(784)*1"
   ]
  },
  {
   "cell_type": "code",
   "execution_count": 126,
   "metadata": {},
   "outputs": [
    {
     "name": "stdout",
     "output_type": "stream",
     "text": [
      "0\n",
      "[-4126 -5920 -2955 -7247  1155  3766 -6784 -5808  -952  1640]\n",
      "0\n"
     ]
    }
   ],
   "source": [
    "dma.sendchannel.transfer(inBuffer0)\n",
    "dma.recvchannel.transfer(outBuffer)\n",
    "ol.top_0.write(0x00, 0x01)\n",
    "while(ol.top_0.register_map.CTRL.AP_DONE==0):\n",
    "    pass\n",
    "print(outBuffer)\n"
   ]
  },
  {
   "cell_type": "code",
   "execution_count": 127,
   "metadata": {},
   "outputs": [],
   "source": [
    "label=np.load(\"label.npy\")"
   ]
  },
  {
   "cell_type": "code",
   "execution_count": 38,
   "metadata": {},
   "outputs": [],
   "source": [
    "img=np.load(\"img.npy\")"
   ]
  },
  {
   "cell_type": "code",
   "execution_count": 43,
   "metadata": {},
   "outputs": [],
   "source": [
    "#turn float to int\n",
    "for i in range(1000):\n",
    "    for j in range(784):\n",
    "        img[i,j]=int((img[i,j]+1)/2*255-127)\n",
    "    "
   ]
  },
  {
   "cell_type": "code",
   "execution_count": 131,
   "metadata": {},
   "outputs": [],
   "source": [
    "import time"
   ]
  },
  {
   "cell_type": "code",
   "execution_count": 132,
   "metadata": {},
   "outputs": [
    {
     "name": "stdout",
     "output_type": "stream",
     "text": [
      "acc 0.966\n",
      "spend time 14.211108684539795\n"
     ]
    }
   ],
   "source": [
    "hit=0\n",
    "start_time=time.time()\n",
    "for i in range(1000):\n",
    "    inBuffer0[:]=img[i]\n",
    "    dma.sendchannel.transfer(inBuffer0)\n",
    "    dma.recvchannel.transfer(outBuffer)\n",
    "    ol.top_0.write(0x00, 0x01)\n",
    "    while(ol.top_0.register_map.CTRL.AP_DONE==0):\n",
    "        pass\n",
    "    if(outBuffer.argmax()==label[i]):\n",
    "        hit+=1\n",
    "    #print(\"times: \",i+1,\"hit: \",hit)\n",
    "print(\"acc\",hit/1000)\n",
    "print(\"spend time\",time.time()-start_time)"
   ]
  },
  {
   "cell_type": "code",
   "execution_count": null,
   "metadata": {},
   "outputs": [],
   "source": []
  }
 ],
 "metadata": {
  "kernelspec": {
   "display_name": "Python 3",
   "language": "python",
   "name": "python3"
  },
  "language_info": {
   "codemirror_mode": {
    "name": "ipython",
    "version": 3
   },
   "file_extension": ".py",
   "mimetype": "text/x-python",
   "name": "python",
   "nbconvert_exporter": "python",
   "pygments_lexer": "ipython3",
   "version": "3.6.5"
  }
 },
 "nbformat": 4,
 "nbformat_minor": 2
}
