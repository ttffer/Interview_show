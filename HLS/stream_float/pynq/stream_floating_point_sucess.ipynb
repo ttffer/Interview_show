{
 "cells": [
  {
   "cell_type": "code",
   "execution_count": 1,
   "metadata": {},
   "outputs": [
    {
     "data": {
      "application/javascript": [
       "\n",
       "require(['notebook/js/codecell'], function(codecell) {\n",
       "  codecell.CodeCell.options_default.highlight_modes[\n",
       "      'magic_text/x-csrc'] = {'reg':[/^%%microblaze/]};\n",
       "  Jupyter.notebook.events.one('kernel_ready.Kernel', function(){\n",
       "      Jupyter.notebook.get_cells().map(function(cell){\n",
       "          if (cell.cell_type == 'code'){ cell.auto_highlight(); } }) ;\n",
       "  });\n",
       "});\n"
      ]
     },
     "metadata": {},
     "output_type": "display_data"
    }
   ],
   "source": [
    "from pynq import Overlay\n",
    "from pynq import allocate\n",
    "import numpy as np"
   ]
  },
  {
   "cell_type": "code",
   "execution_count": 2,
   "metadata": {},
   "outputs": [],
   "source": [
    "ol = Overlay(\"stream_fp_int.bit\")"
   ]
  },
  {
   "cell_type": "code",
   "execution_count": 3,
   "metadata": {},
   "outputs": [],
   "source": [
    "ol?\n"
   ]
  },
  {
   "cell_type": "code",
   "execution_count": 4,
   "metadata": {},
   "outputs": [],
   "source": [
    "img=np.load(\"img.npy\")\n",
    "label=np.load(\"label.npy\")"
   ]
  },
  {
   "cell_type": "code",
   "execution_count": 5,
   "metadata": {},
   "outputs": [],
   "source": [
    "inBuffer0 = allocate(shape=(784,), dtype=np.float32)\n",
    "outBuffer= allocate(shape=(10,), dtype=np.float32)\n",
    "dma=ol.axi_dma_0\n"
   ]
  },
  {
   "cell_type": "code",
   "execution_count": 8,
   "metadata": {},
   "outputs": [
    {
     "name": "stdout",
     "output_type": "stream",
     "text": [
      "[ -20.174593    -8.319537    18.026855    -0.5553475 -102.96447\n",
      "   17.360079   -41.692043     1.7244928  -38.64471    -56.771233 ]\n"
     ]
    }
   ],
   "source": [
    "dma.sendchannel.transfer(inBuffer0)\n",
    "dma.recvchannel.transfer(outBuffer)\n",
    "ol.top_0.write(0x00, 0x01)\n",
    "while(ol.top_0.register_map.CTRL.AP_DONE==0):\n",
    "    pass\n",
    "print(outBuffer)"
   ]
  },
  {
   "cell_type": "code",
   "execution_count": 126,
   "metadata": {},
   "outputs": [
    {
     "name": "stdout",
     "output_type": "stream",
     "text": [
      "4\n",
      "1.0\n"
     ]
    }
   ],
   "source": [
    "print(outBuffer.argmax())\n",
    "print(label[2])"
   ]
  },
  {
   "cell_type": "markdown",
   "metadata": {},
   "source": [
    "# Load Label, Img"
   ]
  },
  {
   "cell_type": "code",
   "execution_count": 9,
   "metadata": {},
   "outputs": [],
   "source": [
    "label=np.load(\"label.npy\")\n",
    "img=np.load(\"img.npy\")"
   ]
  },
  {
   "cell_type": "code",
   "execution_count": 10,
   "metadata": {},
   "outputs": [],
   "source": [
    "import time"
   ]
  },
  {
   "cell_type": "markdown",
   "metadata": {},
   "source": [
    "# Test accuracy"
   ]
  },
  {
   "cell_type": "code",
   "execution_count": 11,
   "metadata": {},
   "outputs": [
    {
     "name": "stdout",
     "output_type": "stream",
     "text": [
      "acc 0.974\n",
      "spend time 20.93618106842041\n"
     ]
    }
   ],
   "source": [
    "hit=0\n",
    "start_time=time.time()\n",
    "for i in range(1000):\n",
    "    inBuffer0[:]=img[i]\n",
    "    dma.sendchannel.transfer(inBuffer0)\n",
    "    dma.recvchannel.transfer(outBuffer)\n",
    "    ol.top_0.write(0x00, 0x01)\n",
    "    while(ol.top_0.register_map.CTRL.AP_DONE==0):\n",
    "        pass\n",
    "    if(outBuffer.argmax()==label[i]):\n",
    "        hit+=1\n",
    "    #print(\"times: \",i+1,\"hit: \",hit)\n",
    "print(\"acc\",hit/1000)\n",
    "print(\"spend time\",time.time()-start_time)"
   ]
  },
  {
   "cell_type": "code",
   "execution_count": null,
   "metadata": {},
   "outputs": [],
   "source": []
  }
 ],
 "metadata": {
  "kernelspec": {
   "display_name": "Python 3",
   "language": "python",
   "name": "python3"
  },
  "language_info": {
   "codemirror_mode": {
    "name": "ipython",
    "version": 3
   },
   "file_extension": ".py",
   "mimetype": "text/x-python",
   "name": "python",
   "nbconvert_exporter": "python",
   "pygments_lexer": "ipython3",
   "version": "3.6.5"
  }
 },
 "nbformat": 4,
 "nbformat_minor": 2
}
